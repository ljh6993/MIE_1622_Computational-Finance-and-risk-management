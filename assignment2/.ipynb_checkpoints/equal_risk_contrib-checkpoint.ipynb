{
 "cells": [
  {
   "cell_type": "markdown",
   "metadata": {},
   "source": [
    "# Risk parity (equal risk contribution) portfolio selection"
   ]
  },
  {
   "cell_type": "markdown",
   "metadata": {},
   "source": [
    "### Import libraries"
   ]
  },
  {
   "cell_type": "code",
   "execution_count": 39,
   "metadata": {},
   "outputs": [],
   "source": [
    "import ipopt\n",
    "import cvxpy as cp\n",
    "import numpy as np\n",
    "import matplotlib.pyplot as plt\n",
    "from matplotlib import rc\n",
    "import pandas as pd\n",
    "%matplotlib inline"
   ]
  },
  {
   "cell_type": "code",
   "execution_count": 40,
   "metadata": {},
   "outputs": [],
   "source": [
    "#np.random.seed(677832)"
   ]
  },
  {
   "cell_type": "markdown",
   "metadata": {},
   "source": [
    "### Generate random data for 10 stocks"
   ]
  },
  {
   "cell_type": "code",
   "execution_count": 41,
   "metadata": {},
   "outputs": [],
   "source": [
    "# Random data for 10 stocks\n",
    "n = 10\n",
    "Q = np.random.random((n,n))\n",
    "Q = np.dot(Q,Q.T)/1000\n",
    "# Q\n",
    "mu = np.random.rand(n) / 100\n",
    "# mu"
   ]
  },
  {
   "cell_type": "markdown",
   "metadata": {},
   "source": [
    "### Compute equal risk contribution (ERC) portfolio"
   ]
  },
  {
   "cell_type": "markdown",
   "metadata": {},
   "source": [
    "\\begin{equation}\n",
    " \\begin{array}{rll}\n",
    "  \\displaystyle \\min_{w} & \\displaystyle \\sum_{i=1}^n \\sum_{j=1}^n \\left( w_i (Qw)_i - w_j (Qw)_j \\right)^2 \\\\\n",
    "  \\mbox{s.t.} & \\sum_{i=1}^n w_i = 1 \\\\\n",
    "  & w \\geq 0\n",
    " \\end{array}\n",
    "\\end{equation}"
   ]
  },
  {
   "cell_type": "markdown",
   "metadata": {},
   "source": [
    "Weights of \"1/n\" portfolio."
   ]
  },
  {
   "cell_type": "code",
   "execution_count": 42,
   "metadata": {},
   "outputs": [
    {
     "data": {
      "text/plain": [
       "[0.1, 0.1, 0.1, 0.1, 0.1, 0.1, 0.1, 0.1, 0.1, 0.1]"
      ]
     },
     "execution_count": 42,
     "metadata": {},
     "output_type": "execute_result"
    }
   ],
   "source": [
    "w0 = [1.0/n] * n\n",
    "w0"
   ]
  },
  {
   "cell_type": "markdown",
   "metadata": {},
   "source": [
    "Define objective function, constraints, gradient of objective fucntion, and jacobian of constrants for the ERC problem."
   ]
  },
  {
   "cell_type": "code",
   "execution_count": 43,
   "metadata": {},
   "outputs": [],
   "source": [
    "class erc(object):\n",
    "    def __init__(self):\n",
    "        pass\n",
    "\n",
    "    def objective(self, x):\n",
    "        # The callback for calculating the objective\n",
    "        y = x * np.dot(Q, x)\n",
    "        fval = 0\n",
    "        for i in range(n):\n",
    "            for j in range(i,n):\n",
    "                xij = y[i] - y[j]\n",
    "                fval = fval + xij*xij\n",
    "        fval = 2*fval\n",
    "        return fval\n",
    "\n",
    "    def gradient(self, x):\n",
    "        # The callback for calculating the gradient\n",
    "        grad = np.zeros(n)\n",
    "        # Insert your gradient computations here\n",
    "        # You can use finite differences to check the gradient\n",
    "        return grad\n",
    "\n",
    "    def constraints(self, x):\n",
    "        # The callback for calculating the constraints\n",
    "        return [1.0] * n\n",
    "    \n",
    "    def jacobian(self, x):\n",
    "        # The callback for calculating the Jacobian\n",
    "        return np.array([[1.0] * n])\n",
    "\n",
    "    def intermediate(\n",
    "            self,\n",
    "            alg_mod,\n",
    "            iter_count,\n",
    "            obj_value,\n",
    "            inf_pr,\n",
    "            inf_du,\n",
    "            mu,\n",
    "            d_norm,\n",
    "            regularization_size,\n",
    "            alpha_du,\n",
    "            alpha_pr,\n",
    "            ls_trials\n",
    "            ):\n",
    "\n",
    "        # Example for the use of the intermediate callback.\n",
    "        print(\"Objective value at iteration #%d is - %g\" % (iter_count, obj_value))"
   ]
  },
  {
   "cell_type": "markdown",
   "metadata": {},
   "source": [
    "Define objective function, constraints, gradient of objective fucntion, and jacobian of constrants for the ERC problem."
   ]
  },
  {
   "cell_type": "code",
   "execution_count": 44,
   "metadata": {},
   "outputs": [
    {
     "name": "stdout",
     "output_type": "stream",
     "text": [
      "Objective value at iteration #0 is - 3.21816e-07\n",
      "Objective value at iteration #1 is - 3.21807e-07\n",
      "Objective value at iteration #2 is - 3.2136e-07\n",
      "Objective value at iteration #3 is - 3.21135e-07\n",
      "Objective value at iteration #4 is - 3.1718e-07\n",
      "Objective value at iteration #5 is - 1.7607e-07\n",
      "Objective value at iteration #6 is - 1.50575e-08\n",
      "Objective value at iteration #7 is - 5.32642e-10\n",
      "Objective value at iteration #8 is - 3.55975e-10\n",
      "Objective value at iteration #9 is - 3.79557e-12\n",
      "Objective value at iteration #10 is - 4.91356e-14\n",
      "Objective value at iteration #11 is - 3.04282e-15\n",
      "Objective value at iteration #12 is - 8.55934e-17\n",
      "\n",
      "Optimal solution: w = array([0.08695147, 0.0747798 , 0.15675171, 0.10786656, 0.11502452,\n",
      "       0.09163725, 0.10178853, 0.08062753, 0.09056035, 0.09401229])\n",
      "\n",
      "Objective function value = 8.559336563113095e-17\n",
      "\n"
     ]
    }
   ],
   "source": [
    "# Use \"1/n portfolio\" w0 as initial portfolio for starting IPOPT optimization\n",
    "\n",
    "lb = [0.0] * n  # lower bounds on variables\n",
    "ub = [1.0] * n  # upper bounds on variables\n",
    "cl = [1]        # lower bounds on constraints\n",
    "cu = [1]        # upper bounds on constraints\n",
    "\n",
    "# Define IPOPT problem\n",
    "nlp = ipopt.problem(n=len(w0), m=len(cl), problem_obj=erc(), lb=lb, ub=ub, cl=cl, cu=cu)\n",
    " \n",
    "# Set the IPOPT options\n",
    "nlp.addOption('jac_c_constant'.encode('utf-8'), 'yes'.encode('utf-8'))\n",
    "nlp.addOption('hessian_approximation'.encode('utf-8'), 'limited-memory'.encode('utf-8'))\n",
    "nlp.addOption('mu_strategy'.encode('utf-8'), 'adaptive'.encode('utf-8'))\n",
    "nlp.addOption('tol'.encode('utf-8'), 1e-10)\n",
    "\n",
    "# Solve the problem\n",
    "w_erc, info = nlp.solve(w0)\n",
    "\n",
    "print(\"\\nOptimal solution: w = %s\\n\" % repr(w_erc))\n",
    "print(\"Objective function value = %s\\n\" % repr(info['obj_val']))"
   ]
  },
  {
   "cell_type": "code",
   "execution_count": 45,
   "metadata": {},
   "outputs": [
    {
     "data": {
      "text/plain": [
       "True"
      ]
     },
     "execution_count": 45,
     "metadata": {},
     "output_type": "execute_result"
    }
   ],
   "source": [
    "# Check constraint sum(w) = 1\n",
    "np.allclose(np.sum(w_erc),1)"
   ]
  },
  {
   "cell_type": "markdown",
   "metadata": {},
   "source": [
    "Compute variance and asset risk contributions for the ERC portfolio."
   ]
  },
  {
   "cell_type": "code",
   "execution_count": 46,
   "metadata": {},
   "outputs": [],
   "source": [
    "# Compute variance and asset risk contributions for the ERC portfolio\n",
    "var_ERC = np.dot(w_erc, np.dot(Q, w_erc))\n",
    "std_ERC = np.sqrt(var_ERC)\n",
    "RC_ERC = (w_erc * np.dot(Q, w_erc)) / std_ERC"
   ]
  },
  {
   "cell_type": "code",
   "execution_count": 47,
   "metadata": {},
   "outputs": [
    {
     "name": "stdout",
     "output_type": "stream",
     "text": [
      "Risk contributions of assets in the ERC portfolio:\n",
      "[0.00444 0.00444 0.00444 0.00444 0.00444 0.00444 0.00444 0.00444 0.00444\n",
      " 0.00444]\n"
     ]
    }
   ],
   "source": [
    "#np.set_printoptions(formatter={'float': '{: 0.5f}'.format}):\n",
    "#print(\"Risk contributions of assets in the ERC portfolio:\\n{0}\".format(RC_ERC))   \n",
    "with np.printoptions(precision=6, suppress=True):\n",
    "    print(\"Risk contributions of assets in the ERC portfolio:\\n{0}\".format(RC_ERC))"
   ]
  },
  {
   "cell_type": "code",
   "execution_count": 48,
   "metadata": {},
   "outputs": [
    {
     "data": {
      "text/plain": [
       "True"
      ]
     },
     "execution_count": 48,
     "metadata": {},
     "output_type": "execute_result"
    }
   ],
   "source": [
    "# Check that sum of risk contributions is equal to portfolio standard deviation\n",
    "np.allclose(np.sum(RC_ERC), std_ERC)"
   ]
  },
  {
   "cell_type": "markdown",
   "metadata": {},
   "source": [
    "### Compute minimum variance portfolio"
   ]
  },
  {
   "cell_type": "markdown",
   "metadata": {},
   "source": [
    "\\begin{equation}\n",
    "\\begin{array}{rl}\n",
    "\\displaystyle \\min_{w} & w^TQw \\\\\n",
    "{\\rm s.t.} & \\sum_i w_i = 1\\\\\n",
    "& w \\geq 0\n",
    "\\end{array}\n",
    "\\end{equation}"
   ]
  },
  {
   "cell_type": "code",
   "execution_count": 49,
   "metadata": {},
   "outputs": [
    {
     "name": "stdout",
     "output_type": "stream",
     "text": [
      "Version identifier: 12.10.0.0 | 2019-11-26 | 843d4de2ae\n",
      "CPXPARAM_Read_DataCheck                          1\n",
      "CPXPARAM_QPMethod                                6\n",
      "Parallel mode: deterministic, using up to 8 threads for concurrent optimization:\n",
      " * Starting dual Simplex on 1 thread...\n",
      " * Starting Barrier on 6 threads...\n",
      " * Starting primal Simplex on 1 thread...\n",
      "Number of nonzeros in lower triangle of Q = 45\n",
      "Using Approximate Minimum Degree ordering\n",
      "Total time for automatic ordering = 0.02 sec. (0.00 ticks)\n",
      "Summary statistics for factor of Q:\n",
      "  Rows in Factor            = 10\n",
      "  Integer space required    = 10\n",
      "  Total non-zeros in factor = 55\n",
      "  Total FP ops to factor    = 385\n",
      "Tried aggregator 1 time.\n",
      "QP Presolve eliminated 10 rows and 0 columns.\n",
      "Number of nonzeros in lower triangle of Q = 45\n",
      "Using Approximate Minimum Degree ordering\n",
      "Total time for automatic ordering = 0.02 sec. (0.00 ticks)\n",
      "Summary statistics for factor of Q:\n",
      "  Rows in Factor            = 10\n",
      "  Integer space required    = 10\n",
      "  Total non-zeros in factor = 55\n",
      "  Total FP ops to factor    = 385\n",
      "Reduced QP has 1 rows, 10 columns, and 10 nonzeros.\n",
      "Reduced QP objective Q matrix has 100 nonzeros.\n",
      "Presolve time = 0.19 sec. (0.02 ticks)\n",
      "\n",
      "Iteration log . . .\n",
      "Iteration:     1    Objective     =             0.000000\n",
      "\n",
      "Dual simplex solved model.\n",
      "\n",
      "\n",
      "Solution status:  optimal\n",
      "Solution optimal value:  0.0011444067498657976\n",
      "Solution w: \n",
      "[0.         0.         0.70269636 0.         0.29730364 0.\n",
      " 0.         0.         0.         0.        ]\n"
     ]
    }
   ],
   "source": [
    "w1 = cp.Variable(n)\n",
    "prob1 = cp.Problem(cp.Minimize(cp.quad_form(w1, Q)),\n",
    "                 [sum(w1) == 1,\n",
    "                  w1 >= 0])\n",
    "prob1.solve(solver=cp.CPLEX, verbose=True,cplex_params={\"qpmethod\": 6})\n",
    "\n",
    "# Print results\n",
    "print(\"\\nSolution status: \", prob1.status)\n",
    "print(\"Solution optimal value: \", prob1.value)\n",
    "print(\"Solution w: \")\n",
    "print(w1.value)"
   ]
  },
  {
   "cell_type": "code",
   "execution_count": 50,
   "metadata": {},
   "outputs": [
    {
     "data": {
      "text/plain": [
       "True"
      ]
     },
     "execution_count": 50,
     "metadata": {},
     "output_type": "execute_result"
    }
   ],
   "source": [
    "# Check constraint sum(w) = 1\n",
    "np.allclose(np.sum(w1.value),1)"
   ]
  },
  {
   "cell_type": "code",
   "execution_count": 51,
   "metadata": {},
   "outputs": [
    {
     "name": "stdout",
     "output_type": "stream",
     "text": [
      "Minimum variance portfolio:\n",
      "\n",
      "   Solution status = optimal\n",
      "    Solution value = 0.0011444067498657976\n",
      "          Variance = 0.0011444067498657976\n",
      "   Expected return = 0.004722835802737483\n",
      "Standard deviation = 0.03382908142214029\n"
     ]
    }
   ],
   "source": [
    "w_minVar = w1.value\n",
    "var_minVar = np.dot(w_minVar, np.dot(Q, w_minVar))\n",
    "ret_minVar = np.dot(mu, w_minVar)\n",
    "print(\"Minimum variance portfolio:\\n\")\n",
    "print(\"   Solution status =\", prob1.status)\n",
    "print(\"    Solution value =\", prob1.value)\n",
    "print(\"          Variance =\", var_minVar)\n",
    "print(\"   Expected return =\", ret_minVar)\n",
    "print(\"Standard deviation =\", np.sqrt(var_minVar))"
   ]
  },
  {
   "cell_type": "markdown",
   "metadata": {},
   "source": [
    "### Compare three portfolios - ERC, minimum variance and equally-weighted"
   ]
  },
  {
   "cell_type": "code",
   "execution_count": 52,
   "metadata": {},
   "outputs": [],
   "source": [
    "# ERC portfolio return\n",
    "ret_ERC = np.dot(mu, w_erc)\n",
    "\n",
    "# 1/n portfolio return\n",
    "ret_init = np.dot(mu, w0)\n",
    "# 1/n portfolio variance\n",
    "var_init = np.dot(w0, np.dot(Q, w0))"
   ]
  },
  {
   "cell_type": "code",
   "execution_count": 53,
   "metadata": {},
   "outputs": [],
   "source": [
    "# Risk Contributions (RC) of each portfolio assets\n",
    "std_minVar = np.sqrt(var_minVar)\n",
    "std_init = np.sqrt(var_init)\n",
    "RC_minVar = (w_minVar * np.dot(Q, w_minVar)) / std_minVar\n",
    "RC_init = (w0 * np.dot(Q, w0)) / std_init\n",
    "#RC_ERC"
   ]
  },
  {
   "cell_type": "code",
   "execution_count": 54,
   "metadata": {},
   "outputs": [
    {
     "name": "stdout",
     "output_type": "stream",
     "text": [
      "       Portfolio ERC return =   0.00595\n",
      "    Portfolio minVar return =   0.00472\n",
      "       Portfolio 1/n return =   0.00606\n",
      "      Portfolio ERC st.dev. =   0.04440\n",
      "   Portfolio minVar st.dev. =   0.03383\n",
      "      Portfolio 1/n st.dev. =   0.04623\n"
     ]
    }
   ],
   "source": [
    "print('       Portfolio ERC return = {0:9.5f}'.format(ret_ERC))\n",
    "print('    Portfolio minVar return = {0:9.5f}'.format(ret_minVar))\n",
    "print('       Portfolio 1/n return = {0:9.5f}'.format(ret_init))\n",
    "print('      Portfolio ERC st.dev. = {0:9.5f}'.format(std_ERC))\n",
    "print('   Portfolio minVar st.dev. = {0:9.5f}'.format(std_minVar))\n",
    "print('      Portfolio 1/n st.dev. = {0:9.5f}'.format(std_init))"
   ]
  },
  {
   "cell_type": "code",
   "execution_count": 55,
   "metadata": {},
   "outputs": [
    {
     "name": "stdout",
     "output_type": "stream",
     "text": [
      "Portfolio weights for ERC, minVar and 1/n portfolios:\n",
      "                0.0869515   0.0000000   0.1000000\n",
      "                0.0747798   0.0000000   0.1000000\n",
      "                0.1567517   0.7026964   0.1000000\n",
      "                0.1078666   0.0000000   0.1000000\n",
      "                0.1150245   0.2973036   0.1000000\n",
      "                0.0916372   0.0000000   0.1000000\n",
      "                0.1017885   0.0000000   0.1000000\n",
      "                0.0806275   0.0000000   0.1000000\n",
      "                0.0905604   0.0000000   0.1000000\n",
      "                0.0940123   0.0000000   0.1000000\n",
      "\n",
      "Asset risk contributions for ERC, minVar and 1/n portfolios:\n",
      "                0.0044403   0.0000000   0.0051335\n",
      "                0.0044403   0.0000000   0.0059970\n",
      "                0.0044402   0.0237716   0.0027730\n",
      "                0.0044402   0.0000000   0.0040871\n",
      "                0.0044402   0.0100575   0.0038552\n",
      "                0.0044402   0.0000000   0.0048562\n",
      "                0.0044402   0.0000000   0.0043412\n",
      "                0.0044403   0.0000000   0.0055411\n",
      "                0.0044402   0.0000000   0.0049364\n",
      "                0.0044402   0.0000000   0.0047072\n",
      "\n",
      "Sum of asset risk contributions for ERC, minVar and 1/n portfolios:\n",
      "                0.0444025   0.0338291   0.0462280\n",
      "\n",
      "Standard deviation for ERC, minVar and 1/n portfolios:\n",
      "                0.0444025   0.0338291   0.0462280\n"
     ]
    }
   ],
   "source": [
    "w_list = [w_erc, w_minVar, w0] \n",
    "# using zip() to print list vertically\n",
    "print('Portfolio weights for ERC, minVar and 1/n portfolios:')\n",
    "for w1, w2, w3 in zip(*w_list):\n",
    "    print('                {0:0.7f}   {1:0.7f}   {2:0.7f}'.format(w1, w2, w3))\n",
    "\n",
    "RC_list = [RC_ERC, RC_minVar, RC_init] \n",
    "# using zip() to print list vertically\n",
    "print('\\nAsset risk contributions for ERC, minVar and 1/n portfolios:')\n",
    "for RC1, RC2, RC3 in zip(*RC_list):\n",
    "    print('                {0:0.7f}   {1:0.7f}   {2:0.7f}'.format(RC1, RC2, RC3))\n",
    "\n",
    "print('\\nSum of asset risk contributions for ERC, minVar and 1/n portfolios:')\n",
    "print('                {0:0.7f}   {1:0.7f}   {2:0.7f}'.format(sum(RC_ERC), sum(RC_minVar), sum(RC_init)))\n",
    "\n",
    "print('\\nStandard deviation for ERC, minVar and 1/n portfolios:')\n",
    "print('                {0:0.7f}   {1:0.7f}   {2:0.7f}'.format(std_ERC, std_minVar, std_init))"
   ]
  },
  {
   "cell_type": "markdown",
   "metadata": {},
   "source": [
    "Plot results."
   ]
  },
  {
   "cell_type": "code",
   "execution_count": 56,
   "metadata": {},
   "outputs": [
    {
     "data": {
      "image/png": "[encoded data removed]",
      "text/plain": [
       "<Figure size 432x288 with 1 Axes>"
      ]
     },
     "metadata": {
      "needs_background": "light"
     },
     "output_type": "display_data"
    }
   ],
   "source": [
    "# Data\n",
    "r = [0,1,2]\n",
    "raw_data = {'Asset1': [RC_minVar[0], RC_ERC[0], RC_init[0]], \\\n",
    "        'Asset2': [RC_minVar[1], RC_ERC[1], RC_init[1]], \\\n",
    "        'Asset3': [RC_minVar[2], RC_ERC[2], RC_init[2]], \\\n",
    "        'Asset4': [RC_minVar[3], RC_ERC[3], RC_init[3]], \\\n",
    "        'Asset5': [RC_minVar[4], RC_ERC[4], RC_init[4]], \\\n",
    "        'Asset6': [RC_minVar[5], RC_ERC[5], RC_init[5]], \\\n",
    "        'Asset7': [RC_minVar[6], RC_ERC[6], RC_init[6]], \\\n",
    "        'Asset8': [RC_minVar[7], RC_ERC[7], RC_init[7]], \\\n",
    "        'Asset9': [RC_minVar[8], RC_ERC[8], RC_init[8]], \\\n",
    "        'Asset10': [RC_minVar[9], RC_ERC[9], RC_init[9]]}\n",
    "df = pd.DataFrame(raw_data)\n",
    "\n",
    "totals = [i+j+k+l+m+n+o+p+r+s for i,j,k,l,m,n,o,p,r,s in zip(df['Asset1'], \n",
    "df['Asset2'], df['Asset3'], df['Asset4'], df['Asset5'], df['Asset6'], df['Asset7'], \n",
    "df['Asset8'], df['Asset9'], df['Asset10'])]\n",
    "Asset1 = [i  for i,j in zip(df['Asset1'], totals)]\n",
    "Asset2 = [i for i,j in zip(df['Asset2'], totals)]\n",
    "Asset3 = [i for i,j in zip(df['Asset3'], totals)]\n",
    "Asset4 = [i for i,j in zip(df['Asset4'], totals)]\n",
    "Asset5 = [i for i,j in zip(df['Asset5'], totals)]\n",
    "Asset6 = [i for i,j in zip(df['Asset6'], totals)]\n",
    "Asset7 = [i for i,j in zip(df['Asset7'], totals)]\n",
    "Asset8 = [i for i,j in zip(df['Asset8'], totals)]\n",
    "Asset9 = [i for i,j in zip(df['Asset9'], totals)]\n",
    "Asset10 = [i for i,j in zip(df['Asset10'], totals)]\n",
    "\n",
    "fig = plt.figure()\n",
    "\n",
    "# plot\n",
    "barWidth = 0.85\n",
    "names = ('min Var','ERC','1/n')\n",
    "# Create Asset1 Bars\n",
    "plt.bar(r, Asset1, color='#A20101', edgecolor='white', width=barWidth, \n",
    "label=\"Asset1\")\n",
    "# Create Asset2 Bars\n",
    "plt.bar(r, Asset2, bottom=Asset1, color='#F44E54', edgecolor='white', \n",
    "width=barWidth, label=\"Asset2\")\n",
    "# Create Asset3 Bars\n",
    "plt.bar(r, Asset3, bottom=[i+j for i,j in zip(Asset1, Asset2)], color='#FF9904', \n",
    "edgecolor='white', width=barWidth, label=\"Asset3\")\n",
    "# Create Asset4 Bars\n",
    "plt.bar(r, Asset4, bottom=[i+j+k for i,j,k in zip(Asset1, Asset2, Asset3)], \n",
    "color='#FDDB5E', edgecolor='white', width=barWidth, label=\"Asset4\")\n",
    "# Create Asset5 Bars\n",
    "plt.bar(r, Asset5, bottom=[i+j+k+l for i,j,k,l in zip(Asset1, Asset2, Asset3, \n",
    "Asset4)], color='#BAF1A1', edgecolor='white', width=barWidth, label=\"Asset5\")\n",
    "# Create Asset6 Bars\n",
    "plt.bar(r, Asset6, bottom=[i+j+k+l+m for i,j,k,l,m in zip(Asset1, Asset2, \n",
    "Asset3, Asset4, Asset5)], color='#76AD3B', edgecolor='white', width=barWidth, \n",
    "label=\"Asset6\")\n",
    "# Create Asset7 Bars\n",
    "plt.bar(r, Asset7, bottom=[i+j+k+l+m+n for i,j,k,l,m,n in zip(Asset1, Asset2, \n",
    "Asset3, Asset4, Asset5, Asset6)], color='#0A709A', edgecolor='white', \n",
    "width=barWidth, label=\"Asset7\")\n",
    "# Create Asset8 Bars\n",
    "plt.bar(r, Asset8, bottom=[i+j+k+l+m+n+o for i,j,k,l,m,n,o in zip(Asset1,  \n",
    "Asset2, Asset3, Asset4, Asset5, Asset6, Asset7)], color='#5E3F99', \n",
    "edgecolor='white', width=barWidth, label=\"Asset8\")\n",
    "# Create Asset9 Bars\n",
    "plt.bar(r, Asset9, bottom=[i+j+k+l+m+n+o+p for i,j,k,l,m,n,o,p in zip(Asset1,  \n",
    "Asset2, Asset3, Asset4, Asset5, Asset6, Asset7, Asset8)], color='#0000FF', \n",
    "edgecolor='white', width=barWidth, label=\"Asset9\")\n",
    "# Create Asset10 Bars\n",
    "plt.bar(r, Asset10, bottom=[i+j+k+l+m+n+o+p+r for i,j,k,l,m,n,o,p,r in zip(Asset1,  \n",
    "Asset2, Asset3, Asset4, Asset5, Asset6, Asset7, Asset8, Asset9)], color='#0000A0', \n",
    "edgecolor='white', width=barWidth, label=\"Asset10\")\n",
    "\n",
    "# Custom x axis\n",
    "plt.xticks(r, names)\n",
    "plt.xlabel(\"Portfolios\")\n",
    "\n",
    "# Custom y axis\n",
    "plt.ylabel(\"Standrad Deviation\")\n",
    "\n",
    "# Add a legend\n",
    "plt.legend(loc='upper left', bbox_to_anchor=(1,1), ncol=1)\n",
    "\n",
    "# Save figure as image\n",
    "plt.tight_layout()\n",
    "plt.savefig('ERC.png', dpi=300)\n",
    "plt.savefig('ERC.pdf')\n",
    "\n",
    "# Show graphics\n",
    "plt.show()"
   ]
  },
  {
   "cell_type": "code",
   "execution_count": 57,
   "metadata": {},
   "outputs": [],
   "source": [
    "# Close figure\n",
    "plt.close(fig)"
   ]
  }
 ],
 "metadata": {
  "anaconda-cloud": {},
  "kernelspec": {
   "display_name": "Python 3",
   "language": "python",
   "name": "python3"
  },
  "language_info": {
   "codemirror_mode": {
    "name": "ipython",
    "version": 3
   },
   "file_extension": ".py",
   "mimetype": "text/x-python",
   "name": "python",
   "nbconvert_exporter": "python",
   "pygments_lexer": "ipython3",
   "version": "3.7.4"
  }
 },
 "nbformat": 4,
 "nbformat_minor": 1
}
