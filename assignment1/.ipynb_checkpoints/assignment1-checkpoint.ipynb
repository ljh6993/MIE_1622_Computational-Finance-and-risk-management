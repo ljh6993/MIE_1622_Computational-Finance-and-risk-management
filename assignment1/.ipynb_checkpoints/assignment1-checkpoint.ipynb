{
 "cells": [
  {
   "cell_type": "code",
   "execution_count": 1,
   "metadata": {
    "colab": {
     "base_uri": "https://localhost:8080/",
     "height": 1000
    },
    "colab_type": "code",
    "executionInfo": {
     "elapsed": 925,
     "status": "ok",
     "timestamp": 1580841344896,
     "user": {
      "displayName": "jianhui li",
      "photoUrl": "",
      "userId": "07548172005458139331"
     },
     "user_tz": 300
    },
    "id": "ssgzAgycWBRV",
    "outputId": "ec91102c-4ce9-40a5-feb6-973b42eb0b0c"
   },
   "outputs": [
    {
     "name": "stdout",
     "output_type": "stream",
     "text": [
      "\n",
      "Initial portfolio value = $ 1000002.12\n",
      "\n",
      "\n",
      "Period 1: start date 1/2/2015, end date 2/27/2015\n",
      "0\n",
      "  Strategy \"Buy and Hold\", value begin = $ 1000002.12, value end = $ 1043785.08\n",
      "while loop\n",
      "-6417.901743374998\n",
      "  Strategy \"Equally Weighted Portfolio\", value begin = $ 992851.27, value end = $ 1020598.88\n",
      "0\n",
      "  Strategy \"Mininum Variance Portfolio\", value begin = $ 1000002.12, value end = $ 1043785.08\n",
      "0\n",
      "  Strategy \"Maximum Sharpe Ratio Portfolio\", value begin = $ 1000002.12, value end = $ 1043785.08\n",
      "\n",
      "Period 2: start date 3/2/2015, end date 4/30/2015\n",
      "0\n",
      "  Strategy \"Buy and Hold\", value begin = $ 1045234.09, value end = $ 1069877.19\n",
      "while loop\n",
      "-6448.262090049917\n",
      "  Strategy \"Equally Weighted Portfolio\", value begin = $ 1037780.97, value end = $ 1017981.15\n",
      "0\n",
      "  Strategy \"Mininum Variance Portfolio\", value begin = $ 1045234.09, value end = $ 1069877.19\n",
      "0\n",
      "  Strategy \"Maximum Sharpe Ratio Portfolio\", value begin = $ 1045234.09, value end = $ 1069877.19\n",
      "\n",
      "Period 3: start date 5/1/2015, end date 6/30/2015\n",
      "0\n",
      "  Strategy \"Buy and Hold\", value begin = $ 1085647.24, value end = $ 1027659.63\n",
      "while loop\n",
      "-6698.7136983452365\n",
      "  Strategy \"Equally Weighted Portfolio\", value begin = $ 1077885.08, value end = $ 1042003.17\n",
      "0\n",
      "  Strategy \"Mininum Variance Portfolio\", value begin = $ 1085647.24, value end = $ 1027659.63\n",
      "0\n",
      "  Strategy \"Maximum Sharpe Ratio Portfolio\", value begin = $ 1085647.24, value end = $ 1027659.63\n",
      "\n",
      "Period 4: start date 7/1/2015, end date 8/31/2015\n",
      "0\n",
      "  Strategy \"Buy and Hold\", value begin = $ 1035245.91, value end = $ 947793.98\n",
      "while loop\n",
      "-6771.873338704929\n",
      "  Strategy \"Equally Weighted Portfolio\", value begin = $ 1027828.78, value end = $ 968237.95\n",
      "0\n",
      "  Strategy \"Mininum Variance Portfolio\", value begin = $ 1035245.91, value end = $ 947793.98\n",
      "0\n",
      "  Strategy \"Maximum Sharpe Ratio Portfolio\", value begin = $ 1035245.91, value end = $ 947793.98\n",
      "\n",
      "Period 5: start date 9/1/2015, end date 10/30/2015\n",
      "0\n",
      "  Strategy \"Buy and Hold\", value begin = $ 912055.56, value end = $ 1027307.87\n",
      "while loop\n",
      "-5598.101056339918\n",
      "  Strategy \"Equally Weighted Portfolio\", value begin = $ 905521.81, value end = $ 1024642.18\n",
      "0\n",
      "  Strategy \"Mininum Variance Portfolio\", value begin = $ 912055.56, value end = $ 1027307.87\n",
      "0\n",
      "  Strategy \"Maximum Sharpe Ratio Portfolio\", value begin = $ 912055.56, value end = $ 1027307.87\n",
      "\n",
      "Period 6: start date 11/2/2015, end date 12/31/2015\n",
      "0\n",
      "  Strategy \"Buy and Hold\", value begin = $ 1039856.20, value end = $ 1003328.46\n",
      "while loop\n",
      "-6479.497692104895\n",
      "  Strategy \"Equally Weighted Portfolio\", value begin = $ 1032487.75, value end = $ 1027934.35\n",
      "0\n",
      "  Strategy \"Mininum Variance Portfolio\", value begin = $ 1039856.20, value end = $ 1003328.46\n",
      "0\n",
      "  Strategy \"Maximum Sharpe Ratio Portfolio\", value begin = $ 1039856.20, value end = $ 1003328.46\n",
      "\n",
      "Period 7: start date 1/4/2016, end date 2/29/2016\n",
      "0\n",
      "  Strategy \"Buy and Hold\", value begin = $ 994608.85, value end = $ 970570.87\n",
      "while loop\n",
      "-6606.744756634929\n",
      "  Strategy \"Equally Weighted Portfolio\", value begin = $ 987606.44, value end = $ 928376.10\n",
      "0\n",
      "  Strategy \"Mininum Variance Portfolio\", value begin = $ 994608.85, value end = $ 970570.87\n",
      "0\n",
      "  Strategy \"Maximum Sharpe Ratio Portfolio\", value begin = $ 994608.85, value end = $ 970570.87\n",
      "\n",
      "Period 8: start date 3/1/2016, end date 4/29/2016\n",
      "0\n",
      "  Strategy \"Buy and Hold\", value begin = $ 999683.25, value end = $ 975547.52\n",
      "while loop\n",
      "-6079.491571170045\n",
      "  Strategy \"Equally Weighted Portfolio\", value begin = $ 992640.49, value end = $ 1064019.18\n",
      "0\n",
      "  Strategy \"Mininum Variance Portfolio\", value begin = $ 999683.25, value end = $ 975547.52\n",
      "0\n",
      "  Strategy \"Maximum Sharpe Ratio Portfolio\", value begin = $ 999683.25, value end = $ 975547.52\n",
      "\n",
      "Period 9: start date 5/2/2016, end date 6/30/2016\n",
      "0\n",
      "  Strategy \"Buy and Hold\", value begin = $ 982170.01, value end = $ 1000838.49\n",
      "while loop\n",
      "-5789.2702599798795\n",
      "  Strategy \"Equally Weighted Portfolio\", value begin = $ 975297.66, value end = $ 1013764.63\n",
      "0\n",
      "  Strategy \"Mininum Variance Portfolio\", value begin = $ 982170.01, value end = $ 1000838.49\n",
      "0\n",
      "  Strategy \"Maximum Sharpe Ratio Portfolio\", value begin = $ 982170.01, value end = $ 1000838.49\n",
      "\n",
      "Period 10: start date 7/1/2016, end date 8/31/2016\n",
      "0\n",
      "  Strategy \"Buy and Hold\", value begin = $ 1003605.67, value end = $ 1067751.34\n",
      "while loop\n",
      "-5898.977230460034\n",
      "  Strategy \"Equally Weighted Portfolio\", value begin = $ 996669.97, value end = $ 1091713.69\n",
      "0\n",
      "  Strategy \"Mininum Variance Portfolio\", value begin = $ 1003605.67, value end = $ 1067751.34\n",
      "0\n",
      "  Strategy \"Maximum Sharpe Ratio Portfolio\", value begin = $ 1003605.67, value end = $ 1067751.34\n",
      "\n",
      "Period 11: start date 9/1/2016, end date 10/31/2016\n",
      "0\n",
      "  Strategy \"Buy and Hold\", value begin = $ 1073361.15, value end = $ 1090939.15\n",
      "while loop\n",
      "-5895.689029205125\n",
      "  Strategy \"Equally Weighted Portfolio\", value begin = $ 1065891.97, value end = $ 1064635.36\n",
      "0\n",
      "  Strategy \"Mininum Variance Portfolio\", value begin = $ 1073361.15, value end = $ 1090939.15\n",
      "0\n",
      "  Strategy \"Maximum Sharpe Ratio Portfolio\", value begin = $ 1073361.15, value end = $ 1090939.15\n",
      "\n",
      "Period 12: start date 11/1/2016, end date 12/30/2016\n",
      "0\n",
      "  Strategy \"Buy and Hold\", value begin = $ 1077523.53, value end = $ 1173675.24\n",
      "while loop\n",
      "-6083.209438504884\n",
      "  Strategy \"Equally Weighted Portfolio\", value begin = $ 1069951.70, value end = $ 1192595.18\n",
      "0\n",
      "  Strategy \"Mininum Variance Portfolio\", value begin = $ 1077523.53, value end = $ 1173675.24\n",
      "0\n",
      "  Strategy \"Maximum Sharpe Ratio Portfolio\", value begin = $ 1077523.53, value end = $ 1173675.24\n"
     ]
    }
   ],
   "source": [
    "# Import libraries\n",
    "import pandas as pd\n",
    "import numpy as np\n",
    "import math\n",
    "\n",
    "\n",
    "# Complete the following functions\n",
    "def strat_buy_and_hold(x_init, cash_init, mu, Q, cur_prices):\n",
    "    x_optimal = x_init\n",
    "    cash_optimal = cash_init\n",
    "    return x_optimal, cash_optimal\n",
    "\n",
    "def strat_equally_weighted(x_init, cash_init, mu, Q, cur_prices):\n",
    "\n",
    "    #xinit curr_positions\n",
    "    #cash init, left cash, maybe 0 or positive\n",
    "    # cur_prices  first trading day of each 2-month\n",
    "    # get the price of each stock\n",
    "    stock_cash_old = np.dot(cur_prices, x_init)\n",
    "    total_cash= stock_cash_old+cash_init\n",
    "    # sell the stock -transction fee\n",
    "\n",
    "    # current cash divide 20 stocks to get the weight\n",
    "    n=20 # number of the stock\n",
    "    weight_new=1/20\n",
    "    # new position\n",
    "    new_x= weight_new*total_cash/cur_prices\n",
    "\n",
    "    new_x= np.floor(new_x) # all the stock -1 is used to pay the trasaction fee\n",
    "    #new_x= np.floor(new_x)  \n",
    "    # print(x_init)\n",
    "    # print(new_x)\n",
    "    stock_cash_new= new_x @cur_prices\n",
    "    # round first then buy the stock -transction fee, round the stock share\n",
    "    # If the value of your portfolio after re-balancing plus the transaction \n",
    "    #fees are smaller than the portfolio value before re-balancing, the remaining \n",
    "    #funds are accumulated in the cash account. \n",
    "    trac_fee=(abs(new_x-x_init)@cur_prices ) *0.005\n",
    "\n",
    "    cash_optimal=total_cash-trac_fee-stock_cash_new\n",
    "    \n",
    "\n",
    "    if cash_optimal< 0:\n",
    "      current_cash=total_cash+cash_optimal\n",
    "      new_x= np.floor(weight_new*total_cash/cur_prices)\n",
    "      stock_cash_new= new_x @cur_prices\n",
    "      trac_fee=(abs(new_x-x_init)@cur_prices ) *0.005\n",
    "      cash_optimal=total_cash-trac_fee-stock_cash_new\n",
    "      print(\"while loop\")\n",
    "\n",
    "\n",
    "\n",
    "\n",
    "    x_optimal=new_x\n",
    "    #return\n",
    "    return x_optimal, cash_optimal\n",
    "\n",
    "\n",
    "def strat_min_variance(x_init, cash_init, mu, Q, cur_prices):\n",
    "\n",
    "\n",
    "    x_optimal=x_init\n",
    "    cash_optimal=cash_init\n",
    "\n",
    "    return x_optimal, cash_optimal\n",
    "\n",
    "\n",
    "\n",
    "def strat_max_Sharpe(x_init, cash_init, mu, Q, cur_prices):\n",
    "    x_optimal=x_init\n",
    "    cash_optimal=cash_init\n",
    "\n",
    "\n",
    "    return x_optimal, cash_optimal\n",
    "\n",
    "# Input file\n",
    "input_file_prices = 'Daily_closing_prices.csv'\n",
    "\n",
    "# Read data into a dataframe\n",
    "df = pd.read_csv(input_file_prices)\n",
    "\n",
    "# Convert dates into array [year month day]\n",
    "def convert_date_to_array(datestr):\n",
    "    temp = [int(x) for x in datestr.split('/')]\n",
    "    return [temp[-1], temp[0], temp[1]]\n",
    "\n",
    "dates_array = np.array(list(df['Date'].apply(convert_date_to_array)))\n",
    "data_prices = df.iloc[:, 1:].to_numpy()\n",
    "dates = np.array(df['Date'])\n",
    "# Find the number of trading days in Nov-Dec 2014 and\n",
    "# compute expected return and covariance matrix for period 1\n",
    "day_ind_start0 = 0\n",
    "day_ind_end0 = len(np.where(dates_array[:,0]==2014)[0])\n",
    "cur_returns0 = data_prices[day_ind_start0+1:day_ind_end0,:] / data_prices[day_ind_start0:day_ind_end0-1,:] - 1\n",
    "mu = np.mean(cur_returns0, axis = 0)\n",
    "Q = np.cov(cur_returns0.T)\n",
    "\n",
    "# Remove datapoints for year 2014\n",
    "data_prices = data_prices[day_ind_end0:,:]\n",
    "dates_array = dates_array[day_ind_end0:,:]\n",
    "dates = dates[day_ind_end0:]\n",
    "\n",
    "# Initial positions in the portfolio\n",
    "\n",
    "\n",
    "# The initial portfolio is as follows: “MSFT” = 5000 shares, “F” = 950 shares, \n",
    "# “CRAY” = 2000 shares, “VZ” = 2000 shares, “AAPL” = 3000 shares, “IBM” = 1500 \n",
    "# shares, “NVDA” = 1001 shares.\n",
    "\n",
    "init_positions = np.array([5000, 950, 2000, 0, 0, 0, 0, 2000, 3000, 1500, 0, 0, 0, 0, 0, 0, 1001, 0, 0, 0])\n",
    "\n",
    "# Initial value of the portfolio\n",
    "init_value = np.dot(data_prices[0,:], init_positions)\n",
    "print('\\nInitial portfolio value = $ {}\\n'.format(round(init_value, 2)))\n",
    "\n",
    "# Initial portfolio weights\n",
    "w_init = (data_prices[0,:] * init_positions) / init_value\n",
    "\n",
    "# Number of periods, assets, trading days\n",
    "N_periods = 6*len(np.unique(dates_array[:,0])) # 6 periods per year\n",
    "N = len(df.columns)-1\n",
    "N_days = len(dates)\n",
    "\n",
    "# Annual risk-free rate for years 2015-2016 is 2.5%\n",
    "r_rf = 0.025\n",
    "\n",
    "# Number of strategies\n",
    "strategy_functions = ['strat_buy_and_hold', 'strat_equally_weighted', 'strat_min_variance', 'strat_max_Sharpe']\n",
    "strategy_names     = ['Buy and Hold', 'Equally Weighted Portfolio', 'Mininum Variance Portfolio', 'Maximum Sharpe Ratio Portfolio']\n",
    "\n",
    "# ************************************************\n",
    "#N_strat = 2  # comment this in your code\n",
    "N_strat = len(strategy_functions)  # uncomment this in your code\n",
    "# ************************************************\n",
    "\n",
    "\n",
    "fh_array = [strat_buy_and_hold, strat_equally_weighted, strat_min_variance, strat_max_Sharpe]\n",
    "\n",
    "portf_value = [0] * N_strat\n",
    "x = [[0] * N_periods] *  N_strat\n",
    "cash = [[0] * N_periods] *  N_strat\n",
    "for period in range(1, N_periods+1):\n",
    "    # Compute current year and month, first and last day of the period\n",
    "    if dates_array[0, 0] == 15:\n",
    "      cur_year  = 15 + math.floor(period/7)\n",
    "    else:\n",
    "      cur_year  = 2015 + math.floor(period/7)\n",
    "\n",
    "    cur_month = 2*((period-1)%6) + 1\n",
    "    day_ind_start = min([i for i, val in enumerate((dates_array[:,0] == cur_year) & (dates_array[:,1] == cur_month)) if val])\n",
    "    day_ind_end = max([i for i, val in enumerate((dates_array[:,0] == cur_year) & (dates_array[:,1] == cur_month+1)) if val])\n",
    "    print('\\nPeriod {0}: start date {1}, end date {2}'.format(period, dates[day_ind_start], dates[day_ind_end]))\n",
    "\n",
    "    # Prices for the current day\n",
    "    cur_prices = data_prices[day_ind_start,:]\n",
    "\n",
    "    # Execute portfolio selection strategies\n",
    "    for strategy  in range(N_strat):\n",
    "    # Get current portfolio positions\n",
    "        if period == 1:\n",
    "          curr_positions = init_positions\n",
    "          curr_cash = 0\n",
    "          portf_value[strategy] = np.zeros((N_days, 1))\n",
    "        else:\n",
    "          curr_positions = x[strategy][period-2]\n",
    "          curr_cash = cash[strategy][period-2]\n",
    "\n",
    "        # Compute strategy\n",
    "        x[strategy][period-1], cash[strategy][period-1] = fh_array[strategy](curr_positions, curr_cash, mu, Q, cur_prices)\n",
    "        print(cash[strategy][period-1])\n",
    "        # Verify that strategy is feasible (you have enough budget to re-balance portfolio)\n",
    "        # Check that cash account is >= 0\n",
    "        # Check that we can buy new portfolio subject to transaction costs\n",
    "\n",
    "        ###################### Insert your code here ############################]\n",
    "\n",
    "        #assert curr_cash >= 0, \"cash account negative error\"\n",
    "        \n",
    "\n",
    "\n",
    "        ##################################################]\n",
    "\n",
    "        # Compute portfolio value\n",
    "        p_values = np.dot(data_prices[day_ind_start:day_ind_end+1,:], x[strategy][period-1]) + cash[strategy][period-1]\n",
    "        portf_value[strategy][day_ind_start:day_ind_end+1] = np.reshape(p_values, (p_values.size,1))\n",
    "        print('  Strategy \"{0}\", value begin = $ {1:.2f}, value end = $ {2:.2f}'.format( strategy_names[strategy], \n",
    "              portf_value[strategy][day_ind_start][0], portf_value[strategy][day_ind_end][0]))\n",
    "\n",
    "\n",
    "        # Compute expected returns and covariances for the next period\n",
    "        cur_returns = data_prices[day_ind_start0+1:day_ind_end0,:] / data_prices[day_ind_start0:day_ind_end0-1,:] - 1\n",
    "        mu = np.mean(cur_returns, axis = 0)\n",
    "        Q = np.cov(cur_returns.T)\n",
    "\n",
    "        # Plot results\n",
    "        ###################### Insert your code here ############################\n",
    "\n",
    "\n",
    "\n",
    "\n",
    "\n",
    "\n",
    "\n",
    "\n",
    "        ##################################################]\n",
    "\n",
    "\n",
    "\n",
    "        \n",
    "\n",
    "\n",
    "\n",
    "\n",
    "\n"
   ]
  },
  {
   "cell_type": "code",
   "execution_count": 0,
   "metadata": {
    "colab": {},
    "colab_type": "code",
    "id": "3FV3ADnYEenf"
   },
   "outputs": [],
   "source": [
    "#df"
   ]
  },
  {
   "cell_type": "code",
   "execution_count": 0,
   "metadata": {
    "colab": {
     "base_uri": "https://localhost:8080/",
     "height": 34
    },
    "colab_type": "code",
    "executionInfo": {
     "elapsed": 880,
     "status": "ok",
     "timestamp": 1580841344899,
     "user": {
      "displayName": "jianhui li",
      "photoUrl": "",
      "userId": "07548172005458139331"
     },
     "user_tz": 300
    },
    "id": "8uxMEHJJEe0Y",
    "outputId": "c21aa412-28f4-400a-9fdf-5e2b65e1184d"
   },
   "outputs": [
    {
     "data": {
      "text/plain": [
       "array([2015,    1,    2])"
      ]
     },
     "execution_count": 3,
     "metadata": {
      "tags": []
     },
     "output_type": "execute_result"
    }
   ],
   "source": [
    "dates_array[0]"
   ]
  },
  {
   "cell_type": "code",
   "execution_count": 0,
   "metadata": {
    "colab": {
     "base_uri": "https://localhost:8080/",
     "height": 102
    },
    "colab_type": "code",
    "executionInfo": {
     "elapsed": 836,
     "status": "ok",
     "timestamp": 1580841344900,
     "user": {
      "displayName": "jianhui li",
      "photoUrl": "",
      "userId": "07548172005458139331"
     },
     "user_tz": 300
    },
    "id": "c49lKXa1FA6Q",
    "outputId": "fec70a14-20cc-4131-ad9d-76ca63668a1e"
   },
   "outputs": [
    {
     "data": {
      "text/plain": [
       "array([-1.72225550e-03,  1.40334947e-03, -2.26634684e-03,  2.34026799e-03,\n",
       "       -3.52113241e-03, -3.89951533e-03, -4.90470380e-04,  1.39724422e-03,\n",
       "        4.38432824e-03, -7.35126649e-05,  4.30959227e-04,  1.89666993e-03,\n",
       "       -2.54771432e-03, -1.48308404e-03,  4.82477368e-03,  7.94855772e-03,\n",
       "        2.62787893e-03,  5.84167484e-03, -1.82848846e-03, -3.65266615e-04])"
      ]
     },
     "execution_count": 4,
     "metadata": {
      "tags": []
     },
     "output_type": "execute_result"
    }
   ],
   "source": [
    "mu"
   ]
  },
  {
   "cell_type": "code",
   "execution_count": 0,
   "metadata": {
    "colab": {
     "base_uri": "https://localhost:8080/",
     "height": 1000
    },
    "colab_type": "code",
    "executionInfo": {
     "elapsed": 805,
     "status": "ok",
     "timestamp": 1580841344901,
     "user": {
      "displayName": "jianhui li",
      "photoUrl": "",
      "userId": "07548172005458139331"
     },
     "user_tz": 300
    },
    "id": "4SLuK-4_FT1s",
    "outputId": "cbf35b71-68a6-4c4d-ee62-1c7f3df5b472"
   },
   "outputs": [
    {
     "data": {
      "text/plain": [
       "array([[ 4.15079537e-04,  1.79767950e-04,  1.35510284e-04,\n",
       "         9.14893910e-05,  2.38690976e-04,  1.41914740e-04,\n",
       "         2.30362317e-04,  7.21956896e-05,  1.65678821e-04,\n",
       "         1.59007492e-04,  6.98160318e-05,  2.49734603e-04,\n",
       "         2.02394062e-04,  2.25173083e-04,  4.12321054e-05,\n",
       "         1.18199978e-04,  3.05764293e-04,  2.32032366e-05,\n",
       "         1.71427529e-04,  1.79774976e-04],\n",
       "       [ 1.79767950e-04,  2.41754866e-04,  1.25913625e-04,\n",
       "         3.90924092e-05,  1.21336356e-04,  1.04926909e-04,\n",
       "         1.47835458e-04,  6.48555265e-05,  8.67610567e-05,\n",
       "         1.00491197e-04,  5.80793970e-05,  1.25006008e-04,\n",
       "         1.86529937e-04,  1.15132181e-04,  1.08234848e-04,\n",
       "         1.08983615e-04,  1.73418362e-04,  9.02882979e-05,\n",
       "         1.67729762e-04,  1.70893341e-04],\n",
       "       [ 1.35510284e-04,  1.25913625e-04,  5.13481409e-04,\n",
       "         1.19022669e-05,  1.49819420e-04,  4.62396824e-05,\n",
       "         1.49251061e-04,  3.77859813e-05,  9.15808531e-05,\n",
       "         1.26289689e-04,  3.26159456e-05,  7.86749889e-05,\n",
       "         1.13379066e-04,  1.17568956e-04, -1.23336678e-04,\n",
       "         4.88154370e-05,  8.22759311e-05,  1.72183764e-05,\n",
       "         1.28186104e-04,  1.02055967e-04],\n",
       "       [ 9.14893910e-05,  3.90924092e-05,  1.19022669e-05,\n",
       "         2.34493737e-04,  9.93337354e-06,  1.09100776e-04,\n",
       "         7.15703456e-05,  3.92802616e-06,  9.32934863e-06,\n",
       "         3.60410201e-05,  2.53667980e-05,  6.71521646e-05,\n",
       "         9.12917852e-05,  6.50626770e-05,  2.04920215e-05,\n",
       "         1.06997105e-05,  1.13475208e-04,  2.80306250e-04,\n",
       "         7.52234334e-05,  8.01796052e-05],\n",
       "       [ 2.38690976e-04,  1.21336356e-04,  1.49819420e-04,\n",
       "         9.93337354e-06,  5.33363868e-04,  1.88155055e-05,\n",
       "         1.56647875e-04,  5.88900236e-05,  2.28498023e-04,\n",
       "         1.75608160e-04,  4.17348749e-05,  1.72615624e-04,\n",
       "         1.90785991e-04,  1.95682985e-04,  6.15268826e-05,\n",
       "         8.18716557e-05,  2.37146815e-04, -4.44852180e-05,\n",
       "         1.68446924e-04,  1.37919284e-04],\n",
       "       [ 1.41914740e-04,  1.04926909e-04,  4.62396824e-05,\n",
       "         1.09100776e-04,  1.88155055e-05,  3.44416777e-04,\n",
       "         5.32223140e-05,  4.38096081e-05,  3.57233056e-05,\n",
       "         3.99930036e-05,  3.73963697e-05,  1.28397091e-04,\n",
       "         1.16806648e-04,  5.24376861e-05,  8.28179175e-05,\n",
       "         5.13429586e-05,  1.47371759e-04,  1.22069587e-04,\n",
       "         7.70185020e-05,  6.07682185e-05],\n",
       "       [ 2.30362317e-04,  1.47835458e-04,  1.49251061e-04,\n",
       "         7.15703456e-05,  1.56647875e-04,  5.32223140e-05,\n",
       "         2.87295933e-04,  6.23454297e-05,  1.12847132e-04,\n",
       "         1.01970854e-04,  7.38602914e-05,  1.84305005e-04,\n",
       "         2.24144622e-04,  1.68835913e-04,  3.87345899e-05,\n",
       "         4.81833081e-05,  2.19804936e-04, -1.54345069e-05,\n",
       "         1.76634059e-04,  1.85640829e-04],\n",
       "       [ 7.21956896e-05,  6.48555265e-05,  3.77859813e-05,\n",
       "         3.92802616e-06,  5.88900236e-05,  4.38096081e-05,\n",
       "         6.23454297e-05,  1.12034680e-04,  8.94560595e-06,\n",
       "         3.75489263e-05,  6.91582144e-05,  2.98587083e-05,\n",
       "         8.24323714e-05,  3.90580840e-05, -5.00418611e-05,\n",
       "        -4.46254972e-05,  6.28577339e-05, -1.89521540e-05,\n",
       "         6.87539465e-05,  7.02247714e-05],\n",
       "       [ 1.65678821e-04,  8.67610567e-05,  9.15808531e-05,\n",
       "         9.32934863e-06,  2.28498023e-04,  3.57233056e-05,\n",
       "         1.12847132e-04,  8.94560595e-06,  3.50365785e-04,\n",
       "         8.27331023e-05,  1.00112591e-05,  1.44822583e-04,\n",
       "         1.00629587e-04,  1.14081059e-04, -2.01530238e-07,\n",
       "         1.05632150e-04,  1.57678294e-04,  2.88854738e-05,\n",
       "         8.03480117e-05,  6.75228565e-05],\n",
       "       [ 1.59007492e-04,  1.00491197e-04,  1.26289689e-04,\n",
       "         3.60410201e-05,  1.75608160e-04,  3.99930036e-05,\n",
       "         1.01970854e-04,  3.75489263e-05,  8.27331023e-05,\n",
       "         1.76199972e-04,  3.97820968e-05,  9.16902265e-05,\n",
       "         1.34190941e-04,  1.00764694e-04,  3.57605459e-07,\n",
       "        -2.56277640e-05,  1.46893545e-04,  2.61207878e-05,\n",
       "         1.16831310e-04,  1.13458761e-04],\n",
       "       [ 6.98160318e-05,  5.80793970e-05,  3.26159456e-05,\n",
       "         2.53667980e-05,  4.17348749e-05,  3.73963697e-05,\n",
       "         7.38602914e-05,  6.91582144e-05,  1.00112591e-05,\n",
       "         3.97820968e-05,  7.29421020e-05,  7.50396701e-05,\n",
       "         7.57817378e-05,  4.86439193e-05,  1.38538997e-05,\n",
       "         1.22175752e-06,  9.06036119e-05,  2.11337758e-05,\n",
       "         5.92004365e-05,  6.19305904e-05],\n",
       "       [ 2.49734603e-04,  1.25006008e-04,  7.86749889e-05,\n",
       "         6.71521646e-05,  1.72615624e-04,  1.28397091e-04,\n",
       "         1.84305005e-04,  2.98587083e-05,  1.44822583e-04,\n",
       "         9.16902265e-05,  7.50396701e-05,  4.33925192e-04,\n",
       "         1.85801350e-04,  1.90937566e-04,  9.29776721e-05,\n",
       "         1.04286642e-04,  3.44767938e-04, -9.15797369e-06,\n",
       "         1.50891229e-04,  1.36570015e-04],\n",
       "       [ 2.02394062e-04,  1.86529937e-04,  1.13379066e-04,\n",
       "         9.12917852e-05,  1.90785991e-04,  1.16806648e-04,\n",
       "         2.24144622e-04,  8.24323714e-05,  1.00629587e-04,\n",
       "         1.34190941e-04,  7.57817378e-05,  1.85801350e-04,\n",
       "         3.91398960e-04,  1.58853178e-04,  1.82063844e-04,\n",
       "         4.54152946e-05,  2.37354784e-04,  1.49320413e-04,\n",
       "         2.67141456e-04,  2.78295266e-04],\n",
       "       [ 2.25173083e-04,  1.15132181e-04,  1.17568956e-04,\n",
       "         6.50626770e-05,  1.95682985e-04,  5.24376861e-05,\n",
       "         1.68835913e-04,  3.90580840e-05,  1.14081059e-04,\n",
       "         1.00764694e-04,  4.86439193e-05,  1.90937566e-04,\n",
       "         1.58853178e-04,  2.44526499e-04,  1.35512145e-04,\n",
       "         9.06728029e-05,  2.47973802e-04,  3.59542770e-06,\n",
       "         1.46449934e-04,  1.59467297e-04],\n",
       "       [ 4.12321054e-05,  1.08234848e-04, -1.23336678e-04,\n",
       "         2.04920215e-05,  6.15268826e-05,  8.28179175e-05,\n",
       "         3.87345899e-05, -5.00418611e-05, -2.01530238e-07,\n",
       "         3.57605459e-07,  1.38538997e-05,  9.29776721e-05,\n",
       "         1.82063844e-04,  1.35512145e-04,  1.62355518e-03,\n",
       "         3.68444137e-04,  1.76437652e-04,  1.36524640e-04,\n",
       "         6.96343216e-05,  1.51228424e-04],\n",
       "       [ 1.18199978e-04,  1.08983615e-04,  4.88154370e-05,\n",
       "         1.06997105e-05,  8.18716557e-05,  5.13429586e-05,\n",
       "         4.81833081e-05, -4.46254972e-05,  1.05632150e-04,\n",
       "        -2.56277640e-05,  1.22175752e-06,  1.04286642e-04,\n",
       "         4.54152946e-05,  9.06728029e-05,  3.68444137e-04,\n",
       "         7.44272202e-04,  1.07614361e-04,  1.28218095e-05,\n",
       "         4.46761439e-05,  5.55944115e-05],\n",
       "       [ 3.05764293e-04,  1.73418362e-04,  8.22759311e-05,\n",
       "         1.13475208e-04,  2.37146815e-04,  1.47371759e-04,\n",
       "         2.19804936e-04,  6.28577339e-05,  1.57678294e-04,\n",
       "         1.46893545e-04,  9.06036119e-05,  3.44767938e-04,\n",
       "         2.37354784e-04,  2.47973802e-04,  1.76437652e-04,\n",
       "         1.07614361e-04,  4.15318972e-04,  4.17697777e-05,\n",
       "         2.04227452e-04,  1.88407701e-04],\n",
       "       [ 2.32032366e-05,  9.02882979e-05,  1.72183764e-05,\n",
       "         2.80306250e-04, -4.44852180e-05,  1.22069587e-04,\n",
       "        -1.54345069e-05, -1.89521540e-05,  2.88854738e-05,\n",
       "         2.61207878e-05,  2.11337758e-05, -9.15797369e-06,\n",
       "         1.49320413e-04,  3.59542770e-06,  1.36524640e-04,\n",
       "         1.28218095e-05,  4.17697777e-05,  6.85302279e-04,\n",
       "         9.54692135e-05,  1.08000334e-04],\n",
       "       [ 1.71427529e-04,  1.67729762e-04,  1.28186104e-04,\n",
       "         7.52234334e-05,  1.68446924e-04,  7.70185020e-05,\n",
       "         1.76634059e-04,  6.87539465e-05,  8.03480117e-05,\n",
       "         1.16831310e-04,  5.92004365e-05,  1.50891229e-04,\n",
       "         2.67141456e-04,  1.46449934e-04,  6.96343216e-05,\n",
       "         4.46761439e-05,  2.04227452e-04,  9.54692135e-05,\n",
       "         2.23942833e-04,  2.22338722e-04],\n",
       "       [ 1.79774976e-04,  1.70893341e-04,  1.02055967e-04,\n",
       "         8.01796052e-05,  1.37919284e-04,  6.07682185e-05,\n",
       "         1.85640829e-04,  7.02247714e-05,  6.75228565e-05,\n",
       "         1.13458761e-04,  6.19305904e-05,  1.36570015e-04,\n",
       "         2.78295266e-04,  1.59467297e-04,  1.51228424e-04,\n",
       "         5.55944115e-05,  1.88407701e-04,  1.08000334e-04,\n",
       "         2.22338722e-04,  2.85614733e-04]])"
      ]
     },
     "execution_count": 5,
     "metadata": {
      "tags": []
     },
     "output_type": "execute_result"
    }
   ],
   "source": [
    "Q"
   ]
  },
  {
   "cell_type": "code",
   "execution_count": 0,
   "metadata": {
    "colab": {
     "base_uri": "https://localhost:8080/",
     "height": 85
    },
    "colab_type": "code",
    "executionInfo": {
     "elapsed": 795,
     "status": "ok",
     "timestamp": 1580841344902,
     "user": {
      "displayName": "jianhui li",
      "photoUrl": "",
      "userId": "07548172005458139331"
     },
     "user_tz": 300
    },
    "id": "EiKH1TxUFUTw",
    "outputId": "bb0c980a-8fc3-438f-f7e5-572fd7ade9e0"
   },
   "outputs": [
    {
     "data": {
      "text/plain": [
       "array([ 46.759998,  15.36    ,  33.23    , 523.373108,  18.274296,\n",
       "        50.169998,  65.790001,  46.959999, 109.330002, 162.059998,\n",
       "        33.869999,  27.610001,  17.9     ,  36.360001,   2.67    ,\n",
       "        20.559999,  20.129999, 308.519989,  38.709999,  40.459999])"
      ]
     },
     "execution_count": 6,
     "metadata": {
      "tags": []
     },
     "output_type": "execute_result"
    }
   ],
   "source": [
    "data_prices[0]\n"
   ]
  },
  {
   "cell_type": "code",
   "execution_count": 0,
   "metadata": {
    "colab": {
     "base_uri": "https://localhost:8080/",
     "height": 34
    },
    "colab_type": "code",
    "executionInfo": {
     "elapsed": 783,
     "status": "ok",
     "timestamp": 1580841344902,
     "user": {
      "displayName": "jianhui li",
      "photoUrl": "",
      "userId": "07548172005458139331"
     },
     "user_tz": 300
    },
    "id": "oqWPrOM0FsrO",
    "outputId": "dac8cf05-ea1c-4165-bad1-1a642c2c57e8"
   },
   "outputs": [
    {
     "data": {
      "text/plain": [
       "41"
      ]
     },
     "execution_count": 7,
     "metadata": {
      "tags": []
     },
     "output_type": "execute_result"
    }
   ],
   "source": [
    "day_ind_end0"
   ]
  },
  {
   "cell_type": "code",
   "execution_count": 0,
   "metadata": {
    "colab": {
     "base_uri": "https://localhost:8080/",
     "height": 68
    },
    "colab_type": "code",
    "executionInfo": {
     "elapsed": 943,
     "status": "ok",
     "timestamp": 1580841345086,
     "user": {
      "displayName": "jianhui li",
      "photoUrl": "",
      "userId": "07548172005458139331"
     },
     "user_tz": 300
    },
    "id": "UsCllEkoFysj",
    "outputId": "8d59d0ff-b823-4d3a-80b0-305e6c77622a"
   },
   "outputs": [
    {
     "name": "stdout",
     "output_type": "stream",
     "text": [
      "[9 5 7 4] [9 5 4 3]\n",
      "146\n",
      "146\n"
     ]
    }
   ],
   "source": [
    "import numpy as np\n",
    "## what is the difference???? keep this question\n",
    "a = np.array([9, 5, 7, 4])\n",
    "c = np.array([9, 5, 4, 3])\n",
    "print(a,c)\n",
    "print(np.dot(a, c))\n",
    "\n",
    "print(np.matmul(a, c))"
   ]
  },
  {
   "cell_type": "code",
   "execution_count": 0,
   "metadata": {
    "colab": {
     "base_uri": "https://localhost:8080/",
     "height": 34
    },
    "colab_type": "code",
    "executionInfo": {
     "elapsed": 894,
     "status": "ok",
     "timestamp": 1580841345087,
     "user": {
      "displayName": "jianhui li",
      "photoUrl": "",
      "userId": "07548172005458139331"
     },
     "user_tz": 300
    },
    "id": "cEWjNG9qINfm",
    "outputId": "17457986-5c6f-4375-fc3e-05e555bb58d8"
   },
   "outputs": [
    {
     "data": {
      "text/plain": [
       "array([1., 2., 1., 2.])"
      ]
     },
     "execution_count": 9,
     "metadata": {
      "tags": []
     },
     "output_type": "execute_result"
    }
   ],
   "source": [
    "np.floor(10/a)"
   ]
  },
  {
   "cell_type": "code",
   "execution_count": 0,
   "metadata": {
    "colab": {
     "base_uri": "https://localhost:8080/",
     "height": 34
    },
    "colab_type": "code",
    "executionInfo": {
     "elapsed": 884,
     "status": "ok",
     "timestamp": 1580841345088,
     "user": {
      "displayName": "jianhui li",
      "photoUrl": "",
      "userId": "07548172005458139331"
     },
     "user_tz": 300
    },
    "id": "OAVeY09iWcdh",
    "outputId": "7146b7fb-f7a7-49d8-addb-8593eeeccb8a"
   },
   "outputs": [
    {
     "data": {
      "text/plain": [
       "array([1.11111111, 2.        , 1.42857143, 2.5       ])"
      ]
     },
     "execution_count": 10,
     "metadata": {
      "tags": []
     },
     "output_type": "execute_result"
    }
   ],
   "source": [
    "10/a"
   ]
  },
  {
   "cell_type": "code",
   "execution_count": 0,
   "metadata": {
    "colab": {
     "base_uri": "https://localhost:8080/",
     "height": 300
    },
    "colab_type": "code",
    "executionInfo": {
     "elapsed": 869,
     "status": "error",
     "timestamp": 1580841345088,
     "user": {
      "displayName": "jianhui li",
      "photoUrl": "",
      "userId": "07548172005458139331"
     },
     "user_tz": 300
    },
    "id": "VKXWf5eyXe0T",
    "outputId": "836903f1-1053-4261-9a4f-ec9e5bae930f"
   },
   "outputs": [
    {
     "ename": "ModuleNotFoundError",
     "evalue": "ignored",
     "output_type": "error",
     "traceback": [
      "\u001b[0;31m---------------------------------------------------------------------------\u001b[0m",
      "\u001b[0;31mModuleNotFoundError\u001b[0m                       Traceback (most recent call last)",
      "\u001b[0;32m<ipython-input-11-adf4590a512d>\u001b[0m in \u001b[0;36m<module>\u001b[0;34m()\u001b[0m\n\u001b[0;32m----> 1\u001b[0;31m \u001b[0;32mimport\u001b[0m \u001b[0mcplex\u001b[0m\u001b[0;34m\u001b[0m\u001b[0;34m\u001b[0m\u001b[0m\n\u001b[0m",
      "\u001b[0;31mModuleNotFoundError\u001b[0m: No module named 'cplex'",
      "",
      "\u001b[0;31m---------------------------------------------------------------------------\u001b[0;32m\nNOTE: If your import is failing due to a missing package, you can\nmanually install dependencies using either !pip or !apt.\n\nTo view examples of installing some common dependencies, click the\n\"Open Examples\" button below.\n\u001b[0;31m---------------------------------------------------------------------------\u001b[0m\n"
     ]
    }
   ],
   "source": [
    "import cplex "
   ]
  }
 ],
 "metadata": {
  "colab": {
   "collapsed_sections": [],
   "name": "assignment1.ipynb",
   "provenance": []
  },
  "kernelspec": {
   "display_name": "Python 3",
   "language": "python",
   "name": "python3"
  },
  "language_info": {
   "codemirror_mode": {
    "name": "ipython",
    "version": 3
   },
   "file_extension": ".py",
   "mimetype": "text/x-python",
   "name": "python",
   "nbconvert_exporter": "python",
   "pygments_lexer": "ipython3",
   "version": "3.7.4"
  }
 },
 "nbformat": 4,
 "nbformat_minor": 1
}
